{
 "cells": [
  {
   "cell_type": "code",
   "execution_count": 3,
   "id": "c78a1a27",
   "metadata": {},
   "outputs": [],
   "source": [
    "import numpy as np #python library for working with arrays\n",
    "import pandas as pd # for working with datasets\n",
    "\n",
    "#Graphs\n",
    "import matplotlib.pyplot as plt #visualization\n",
    "from matplotlib import pyplot #visualization \n",
    "%matplotlib inline \n",
    "#static images of your plot embedded in the workbook\n",
    "\n",
    "#For splitting the train and test data\n",
    "from sklearn.model_selection import train_test_split\n",
    "\n",
    "#For Sampling\n",
    "from sklearn.utils import resample\n",
    "\n",
    "#XGBoost Algorithm\n",
    "import xgboost as xgb\n",
    "\n",
    "#Evaluation\n",
    "from sklearn import metrics\n",
    "from sklearn.metrics import confusion_matrix\n",
    "from sklearn.metrics import precision_score, recall_score, f1_score, accuracy_score\n",
    "\n",
    "import warnings\n",
    "warnings.filterwarnings(\"ignore\")\n",
    "\n",
    "from imblearn.over_sampling import SMOTE"
   ]
  },
  {
   "cell_type": "code",
   "execution_count": 4,
   "id": "21e9db76",
   "metadata": {},
   "outputs": [],
   "source": [
    "pd.options.display.max_colwidth = 150 #to extend the maximum width of the output display"
   ]
  },
  {
   "cell_type": "code",
   "execution_count": 5,
   "id": "bc39d0aa",
   "metadata": {},
   "outputs": [
    {
     "data": {
      "text/html": [
       "<div>\n",
       "<style scoped>\n",
       "    .dataframe tbody tr th:only-of-type {\n",
       "        vertical-align: middle;\n",
       "    }\n",
       "\n",
       "    .dataframe tbody tr th {\n",
       "        vertical-align: top;\n",
       "    }\n",
       "\n",
       "    .dataframe thead th {\n",
       "        text-align: right;\n",
       "    }\n",
       "</style>\n",
       "<table border=\"1\" class=\"dataframe\">\n",
       "  <thead>\n",
       "    <tr style=\"text-align: right;\">\n",
       "      <th></th>\n",
       "      <th>id</th>\n",
       "      <th>Gender</th>\n",
       "      <th>Age</th>\n",
       "      <th>Driving_License</th>\n",
       "      <th>Region_Code</th>\n",
       "      <th>Previously_Insured</th>\n",
       "      <th>Vehicle_Age</th>\n",
       "      <th>Vehicle_Damage</th>\n",
       "      <th>Annual_Premium</th>\n",
       "      <th>Policy_Sales_Channel</th>\n",
       "      <th>Vintage</th>\n",
       "      <th>Response</th>\n",
       "    </tr>\n",
       "  </thead>\n",
       "  <tbody>\n",
       "    <tr>\n",
       "      <th>0</th>\n",
       "      <td>167647</td>\n",
       "      <td>Male</td>\n",
       "      <td>22</td>\n",
       "      <td>1</td>\n",
       "      <td>7.0</td>\n",
       "      <td>1</td>\n",
       "      <td>&lt; 1 Year</td>\n",
       "      <td>No</td>\n",
       "      <td>2630.0</td>\n",
       "      <td>152.0</td>\n",
       "      <td>16</td>\n",
       "      <td>0</td>\n",
       "    </tr>\n",
       "    <tr>\n",
       "      <th>1</th>\n",
       "      <td>17163</td>\n",
       "      <td>Male</td>\n",
       "      <td>42</td>\n",
       "      <td>1</td>\n",
       "      <td>28.0</td>\n",
       "      <td>0</td>\n",
       "      <td>1-2 Year</td>\n",
       "      <td>Yes</td>\n",
       "      <td>43327.0</td>\n",
       "      <td>26.0</td>\n",
       "      <td>135</td>\n",
       "      <td>0</td>\n",
       "    </tr>\n",
       "    <tr>\n",
       "      <th>2</th>\n",
       "      <td>32023</td>\n",
       "      <td>Female</td>\n",
       "      <td>66</td>\n",
       "      <td>1</td>\n",
       "      <td>33.0</td>\n",
       "      <td>0</td>\n",
       "      <td>1-2 Year</td>\n",
       "      <td>Yes</td>\n",
       "      <td>35841.0</td>\n",
       "      <td>124.0</td>\n",
       "      <td>253</td>\n",
       "      <td>0</td>\n",
       "    </tr>\n",
       "    <tr>\n",
       "      <th>3</th>\n",
       "      <td>87447</td>\n",
       "      <td>Female</td>\n",
       "      <td>22</td>\n",
       "      <td>1</td>\n",
       "      <td>33.0</td>\n",
       "      <td>0</td>\n",
       "      <td>&lt; 1 Year</td>\n",
       "      <td>No</td>\n",
       "      <td>27645.0</td>\n",
       "      <td>152.0</td>\n",
       "      <td>69</td>\n",
       "      <td>0</td>\n",
       "    </tr>\n",
       "    <tr>\n",
       "      <th>4</th>\n",
       "      <td>501933</td>\n",
       "      <td>Male</td>\n",
       "      <td>28</td>\n",
       "      <td>1</td>\n",
       "      <td>46.0</td>\n",
       "      <td>1</td>\n",
       "      <td>&lt; 1 Year</td>\n",
       "      <td>No</td>\n",
       "      <td>29023.0</td>\n",
       "      <td>152.0</td>\n",
       "      <td>211</td>\n",
       "      <td>0</td>\n",
       "    </tr>\n",
       "  </tbody>\n",
       "</table>\n",
       "</div>"
      ],
      "text/plain": [
       "       id  Gender  Age  Driving_License  Region_Code  Previously_Insured  \\\n",
       "0  167647    Male   22                1          7.0                   1   \n",
       "1   17163    Male   42                1         28.0                   0   \n",
       "2   32023  Female   66                1         33.0                   0   \n",
       "3   87447  Female   22                1         33.0                   0   \n",
       "4  501933    Male   28                1         46.0                   1   \n",
       "\n",
       "  Vehicle_Age Vehicle_Damage  Annual_Premium  Policy_Sales_Channel  Vintage  \\\n",
       "0    < 1 Year             No          2630.0                 152.0       16   \n",
       "1    1-2 Year            Yes         43327.0                  26.0      135   \n",
       "2    1-2 Year            Yes         35841.0                 124.0      253   \n",
       "3    < 1 Year             No         27645.0                 152.0       69   \n",
       "4    < 1 Year             No         29023.0                 152.0      211   \n",
       "\n",
       "   Response  \n",
       "0         0  \n",
       "1         0  \n",
       "2         0  \n",
       "3         0  \n",
       "4         0  "
      ]
     },
     "execution_count": 5,
     "metadata": {},
     "output_type": "execute_result"
    }
   ],
   "source": [
    "data = pd.read_csv(\"./data/aug_train.csv\")\n",
    "data.head()"
   ]
  },
  {
   "cell_type": "markdown",
   "id": "7ae22730",
   "metadata": {},
   "source": [
    "## Reading the Dataset\n",
    "**About the Dataset:**\n",
    "\n",
    "Insurance companies that sell life, health, and property and casualty insurance are using machine learning (ML) to drive improvements in customer service, fraud detection, and operational efficiency. We can build a model to predict whether the policyholders (customers) from past year will also be interested in Vehicle Insurance provided by the company.\n",
    "\n",
    "We have information about:\n",
    "\n",
    "Demographics (gender, age, region code type), Vehicles (Vehicle Age, Damage), Policy (Premium, sourcing channel), etc.\n",
    "\n",
    "Aim:\n",
    "\n",
    "Building a model to predict whether a customer would be interested in Vehicle Insurance is extremely helpful for the company because it can then accordingly plan its communication strategy to reach out to those customers and optimize its business model and revenue.\n",
    "\n",
    "Data Source: Kaggle - Learning from Imbalanced Insurance Data.\n",
    "\n",
    "For more information, refer to: https://www.kaggle.com/datasets/arashnic/imbalanced-data-practice"
   ]
  },
  {
   "cell_type": "markdown",
   "id": "4e9fc5bc",
   "metadata": {},
   "source": [
    "## Basic Data Preprocessing"
   ]
  },
  {
   "cell_type": "code",
   "execution_count": 7,
   "id": "ef6003a9",
   "metadata": {},
   "outputs": [
    {
     "data": {
      "text/plain": [
       "0"
      ]
     },
     "execution_count": 7,
     "metadata": {},
     "output_type": "execute_result"
    }
   ],
   "source": [
    "data.isnull().sum().sum() #checking for null values"
   ]
  },
  {
   "cell_type": "code",
   "execution_count": 8,
   "id": "693c58cd",
   "metadata": {},
   "outputs": [
    {
     "data": {
      "text/plain": [
       "id                        int64\n",
       "Gender                   object\n",
       "Age                       int64\n",
       "Driving_License           int64\n",
       "Region_Code             float64\n",
       "Previously_Insured        int64\n",
       "Vehicle_Age              object\n",
       "Vehicle_Damage           object\n",
       "Annual_Premium          float64\n",
       "Policy_Sales_Channel    float64\n",
       "Vintage                   int64\n",
       "Response                  int64\n",
       "dtype: object"
      ]
     },
     "execution_count": 8,
     "metadata": {},
     "output_type": "execute_result"
    }
   ],
   "source": [
    "data.dtypes #checking the data types of the various columns\n"
   ]
  },
  {
   "cell_type": "code",
   "execution_count": 10,
   "id": "26a300ca",
   "metadata": {},
   "outputs": [
    {
     "data": {
      "text/html": [
       "<div>\n",
       "<style scoped>\n",
       "    .dataframe tbody tr th:only-of-type {\n",
       "        vertical-align: middle;\n",
       "    }\n",
       "\n",
       "    .dataframe tbody tr th {\n",
       "        vertical-align: top;\n",
       "    }\n",
       "\n",
       "    .dataframe thead th {\n",
       "        text-align: right;\n",
       "    }\n",
       "</style>\n",
       "<table border=\"1\" class=\"dataframe\">\n",
       "  <thead>\n",
       "    <tr style=\"text-align: right;\">\n",
       "      <th></th>\n",
       "      <th>count</th>\n",
       "      <th>mean</th>\n",
       "      <th>std</th>\n",
       "      <th>min</th>\n",
       "      <th>25%</th>\n",
       "      <th>50%</th>\n",
       "      <th>75%</th>\n",
       "      <th>max</th>\n",
       "    </tr>\n",
       "  </thead>\n",
       "  <tbody>\n",
       "    <tr>\n",
       "      <th>id</th>\n",
       "      <td>382154.0</td>\n",
       "      <td>234392.953477</td>\n",
       "      <td>139527.487326</td>\n",
       "      <td>1.0</td>\n",
       "      <td>115006.25</td>\n",
       "      <td>230461.5</td>\n",
       "      <td>345434.75</td>\n",
       "      <td>508145.0</td>\n",
       "    </tr>\n",
       "    <tr>\n",
       "      <th>Age</th>\n",
       "      <td>382154.0</td>\n",
       "      <td>38.545691</td>\n",
       "      <td>15.226897</td>\n",
       "      <td>20.0</td>\n",
       "      <td>25.00</td>\n",
       "      <td>36.0</td>\n",
       "      <td>49.00</td>\n",
       "      <td>85.0</td>\n",
       "    </tr>\n",
       "    <tr>\n",
       "      <th>Driving_License</th>\n",
       "      <td>382154.0</td>\n",
       "      <td>0.998108</td>\n",
       "      <td>0.043455</td>\n",
       "      <td>0.0</td>\n",
       "      <td>1.00</td>\n",
       "      <td>1.0</td>\n",
       "      <td>1.00</td>\n",
       "      <td>1.0</td>\n",
       "    </tr>\n",
       "    <tr>\n",
       "      <th>Region_Code</th>\n",
       "      <td>382154.0</td>\n",
       "      <td>26.406867</td>\n",
       "      <td>13.181241</td>\n",
       "      <td>0.0</td>\n",
       "      <td>15.00</td>\n",
       "      <td>28.0</td>\n",
       "      <td>35.00</td>\n",
       "      <td>52.0</td>\n",
       "    </tr>\n",
       "    <tr>\n",
       "      <th>Previously_Insured</th>\n",
       "      <td>382154.0</td>\n",
       "      <td>0.489182</td>\n",
       "      <td>0.499884</td>\n",
       "      <td>0.0</td>\n",
       "      <td>0.00</td>\n",
       "      <td>0.0</td>\n",
       "      <td>1.00</td>\n",
       "      <td>1.0</td>\n",
       "    </tr>\n",
       "    <tr>\n",
       "      <th>Annual_Premium</th>\n",
       "      <td>382154.0</td>\n",
       "      <td>30711.271362</td>\n",
       "      <td>17061.595532</td>\n",
       "      <td>2630.0</td>\n",
       "      <td>24546.00</td>\n",
       "      <td>31692.0</td>\n",
       "      <td>39447.75</td>\n",
       "      <td>540165.0</td>\n",
       "    </tr>\n",
       "    <tr>\n",
       "      <th>Policy_Sales_Channel</th>\n",
       "      <td>382154.0</td>\n",
       "      <td>111.939812</td>\n",
       "      <td>54.286511</td>\n",
       "      <td>1.0</td>\n",
       "      <td>26.00</td>\n",
       "      <td>145.0</td>\n",
       "      <td>152.00</td>\n",
       "      <td>163.0</td>\n",
       "    </tr>\n",
       "    <tr>\n",
       "      <th>Vintage</th>\n",
       "      <td>382154.0</td>\n",
       "      <td>154.189429</td>\n",
       "      <td>83.735107</td>\n",
       "      <td>10.0</td>\n",
       "      <td>81.00</td>\n",
       "      <td>154.0</td>\n",
       "      <td>227.00</td>\n",
       "      <td>299.0</td>\n",
       "    </tr>\n",
       "    <tr>\n",
       "      <th>Response</th>\n",
       "      <td>382154.0</td>\n",
       "      <td>0.163811</td>\n",
       "      <td>0.370104</td>\n",
       "      <td>0.0</td>\n",
       "      <td>0.00</td>\n",
       "      <td>0.0</td>\n",
       "      <td>0.00</td>\n",
       "      <td>1.0</td>\n",
       "    </tr>\n",
       "  </tbody>\n",
       "</table>\n",
       "</div>"
      ],
      "text/plain": [
       "                         count           mean            std     min  \\\n",
       "id                    382154.0  234392.953477  139527.487326     1.0   \n",
       "Age                   382154.0      38.545691      15.226897    20.0   \n",
       "Driving_License       382154.0       0.998108       0.043455     0.0   \n",
       "Region_Code           382154.0      26.406867      13.181241     0.0   \n",
       "Previously_Insured    382154.0       0.489182       0.499884     0.0   \n",
       "Annual_Premium        382154.0   30711.271362   17061.595532  2630.0   \n",
       "Policy_Sales_Channel  382154.0     111.939812      54.286511     1.0   \n",
       "Vintage               382154.0     154.189429      83.735107    10.0   \n",
       "Response              382154.0       0.163811       0.370104     0.0   \n",
       "\n",
       "                            25%       50%        75%       max  \n",
       "id                    115006.25  230461.5  345434.75  508145.0  \n",
       "Age                       25.00      36.0      49.00      85.0  \n",
       "Driving_License            1.00       1.0       1.00       1.0  \n",
       "Region_Code               15.00      28.0      35.00      52.0  \n",
       "Previously_Insured         0.00       0.0       1.00       1.0  \n",
       "Annual_Premium         24546.00   31692.0   39447.75  540165.0  \n",
       "Policy_Sales_Channel      26.00     145.0     152.00     163.0  \n",
       "Vintage                   81.00     154.0     227.00     299.0  \n",
       "Response                   0.00       0.0       0.00       1.0  "
      ]
     },
     "execution_count": 10,
     "metadata": {},
     "output_type": "execute_result"
    }
   ],
   "source": [
    "data.describe().T"
   ]
  },
  {
   "cell_type": "code",
   "execution_count": 11,
   "id": "16c71394",
   "metadata": {},
   "outputs": [],
   "source": [
    "data = pd.get_dummies(data, ['Gender', 'Vehicle_Age', 'Vehicle_Damage']) #one-hot-encoding for Categorical Columns"
   ]
  },
  {
   "cell_type": "markdown",
   "id": "f0dcc964",
   "metadata": {},
   "source": [
    "# Check the Class Imbalance "
   ]
  },
  {
   "cell_type": "code",
   "execution_count": 17,
   "id": "7a116b58",
   "metadata": {},
   "outputs": [
    {
     "data": {
      "text/plain": [
       "0    319553\n",
       "1     62601\n",
       "Name: Response, dtype: int64"
      ]
     },
     "execution_count": 17,
     "metadata": {},
     "output_type": "execute_result"
    }
   ],
   "source": [
    "data[\"Response\"].value_counts()"
   ]
  },
  {
   "cell_type": "code",
   "execution_count": 19,
   "id": "46e24ba3",
   "metadata": {},
   "outputs": [
    {
     "data": {
      "image/png": "[encoded data removed]",
      "text/plain": [
       "<Figure size 640x480 with 1 Axes>"
      ]
     },
     "metadata": {},
     "output_type": "display_data"
    }
   ],
   "source": [
    "class_division = [data[data[\"Response\"] ==1].shape[0],data[data[\"Response\"] ==0].shape[0]]\n",
    "\n",
    "my_labels = [\"Minority Class\",\"Majority Class\"]\n",
    "\n",
    "plt.pie(class_division, labels=my_labels)\n",
    "plt.show()"
   ]
  },
  {
   "cell_type": "code",
   "execution_count": 20,
   "id": "a234b684",
   "metadata": {},
   "outputs": [
    {
     "name": "stdout",
     "output_type": "stream",
     "text": [
      "Proportion of Minority Class: 16.38%\n"
     ]
    }
   ],
   "source": [
    "print(\"Proportion of Minority Class: \" + str(round(data[data['Response'] == 1 ].shape[0]/data.shape[0] * 100, 2)) + \"%\")"
   ]
  },
  {
   "cell_type": "code",
   "execution_count": 21,
   "id": "cffed13c",
   "metadata": {},
   "outputs": [],
   "source": [
    "from sklearn.model_selection import train_test_split #splitting the data into train and test\n",
    "\n",
    "X = data.drop(columns= ['id', 'Response']) #Columns to be excluded from training set\n",
    "y = data['Response'] #defining the Response as y\n",
    "\n",
    "X.columns = ['Age', 'Driving_License', 'Region_Code', 'Previously_Insured',\n",
    "       'Annual_Premium', 'Policy_Sales_Channel', 'Vintage', 'Gender_Female',\n",
    "       'Gender_Male', 'Vehicle_Age_1_2_Year', 'Vehicle_Age_lessthan_1_Year',\n",
    "       'Vehicle_Age_greaterthan_2_Years', 'Vehicle_Damage_No', 'Vehicle_Damage_Yes']\n",
    "\n",
    "X_train, X_test, y_train, y_test = train_test_split(X, y, test_size=0.3, random_state=42, stratify=y)\n",
    "\n",
    "# splitting the data into train and test. Note that here, we have used stratify = y, so that the class imbalances are properly \n",
    "# replicated in our train and test dataset. The data is split in a 70-30 ratio of train:test."
   ]
  },
  {
   "cell_type": "code",
   "execution_count": 22,
   "id": "915231f7",
   "metadata": {},
   "outputs": [
    {
     "name": "stdout",
     "output_type": "stream",
     "text": [
      "Proportion of Minority Class in train set: 16.38%\n",
      "Proportion of Minority Class in test set: 16.38%\n"
     ]
    }
   ],
   "source": [
    "print(\"Proportion of Minority Class in train set: \" + str(round(y_train.sum()/len(y_train) * 100, 2)) + \"%\")\n",
    "print(\"Proportion of Minority Class in test set: \" + str(round(y_test.sum()/len(y_test) * 100, 2)) + \"%\")"
   ]
  },
  {
   "cell_type": "markdown",
   "id": "73286b37",
   "metadata": {},
   "source": [
    "## Building a Basic XGBoost Model\n",
    "We choose an XGBoost model to illustrate the effect of class imbalance in the data. XGBoost models are usually robust, guard against overfitting and do not adhere to many assumptions as in cases of decision trees or logistic regression models. Here we see that inspite of all these qualities, the xgboost model does not perform well in case of the unbalanced dataset."
   ]
  },
  {
   "cell_type": "code",
   "execution_count": 23,
   "id": "19210f2f",
   "metadata": {},
   "outputs": [
    {
     "data": {
      "text/html": [
       "<style>#sk-container-id-1 {color: black;background-color: white;}#sk-container-id-1 pre{padding: 0;}#sk-container-id-1 div.sk-toggleable {background-color: white;}#sk-container-id-1 label.sk-toggleable__label {cursor: pointer;display: block;width: 100%;margin-bottom: 0;padding: 0.3em;box-sizing: border-box;text-align: center;}#sk-container-id-1 label.sk-toggleable__label-arrow:before {content: \"▸\";float: left;margin-right: 0.25em;color: #696969;}#sk-container-id-1 label.sk-toggleable__label-arrow:hover:before {color: black;}#sk-container-id-1 div.sk-estimator:hover label.sk-toggleable__label-arrow:before {color: black;}#sk-container-id-1 div.sk-toggleable__content {max-height: 0;max-width: 0;overflow: hidden;text-align: left;background-color: #f0f8ff;}#sk-container-id-1 div.sk-toggleable__content pre {margin: 0.2em;color: black;border-radius: 0.25em;background-color: #f0f8ff;}#sk-container-id-1 input.sk-toggleable__control:checked~div.sk-toggleable__content {max-height: 200px;max-width: 100%;overflow: auto;}#sk-container-id-1 input.sk-toggleable__control:checked~label.sk-toggleable__label-arrow:before {content: \"▾\";}#sk-container-id-1 div.sk-estimator input.sk-toggleable__control:checked~label.sk-toggleable__label {background-color: #d4ebff;}#sk-container-id-1 div.sk-label input.sk-toggleable__control:checked~label.sk-toggleable__label {background-color: #d4ebff;}#sk-container-id-1 input.sk-hidden--visually {border: 0;clip: rect(1px 1px 1px 1px);clip: rect(1px, 1px, 1px, 1px);height: 1px;margin: -1px;overflow: hidden;padding: 0;position: absolute;width: 1px;}#sk-container-id-1 div.sk-estimator {font-family: monospace;background-color: #f0f8ff;border: 1px dotted black;border-radius: 0.25em;box-sizing: border-box;margin-bottom: 0.5em;}#sk-container-id-1 div.sk-estimator:hover {background-color: #d4ebff;}#sk-container-id-1 div.sk-parallel-item::after {content: \"\";width: 100%;border-bottom: 1px solid gray;flex-grow: 1;}#sk-container-id-1 div.sk-label:hover label.sk-toggleable__label {background-color: #d4ebff;}#sk-container-id-1 div.sk-serial::before {content: \"\";position: absolute;border-left: 1px solid gray;box-sizing: border-box;top: 0;bottom: 0;left: 50%;z-index: 0;}#sk-container-id-1 div.sk-serial {display: flex;flex-direction: column;align-items: center;background-color: white;padding-right: 0.2em;padding-left: 0.2em;position: relative;}#sk-container-id-1 div.sk-item {position: relative;z-index: 1;}#sk-container-id-1 div.sk-parallel {display: flex;align-items: stretch;justify-content: center;background-color: white;position: relative;}#sk-container-id-1 div.sk-item::before, #sk-container-id-1 div.sk-parallel-item::before {content: \"\";position: absolute;border-left: 1px solid gray;box-sizing: border-box;top: 0;bottom: 0;left: 50%;z-index: -1;}#sk-container-id-1 div.sk-parallel-item {display: flex;flex-direction: column;z-index: 1;position: relative;background-color: white;}#sk-container-id-1 div.sk-parallel-item:first-child::after {align-self: flex-end;width: 50%;}#sk-container-id-1 div.sk-parallel-item:last-child::after {align-self: flex-start;width: 50%;}#sk-container-id-1 div.sk-parallel-item:only-child::after {width: 0;}#sk-container-id-1 div.sk-dashed-wrapped {border: 1px dashed gray;margin: 0 0.4em 0.5em 0.4em;box-sizing: border-box;padding-bottom: 0.4em;background-color: white;}#sk-container-id-1 div.sk-label label {font-family: monospace;font-weight: bold;display: inline-block;line-height: 1.2em;}#sk-container-id-1 div.sk-label-container {text-align: center;}#sk-container-id-1 div.sk-container {/* jupyter's `normalize.less` sets `[hidden] { display: none; }` but bootstrap.min.css set `[hidden] { display: none !important; }` so we also need the `!important` here to be able to override the default hidden behavior on the sphinx rendered scikit-learn.org. See: https://github.com/scikit-learn/scikit-learn/issues/21755 */display: inline-block !important;position: relative;}#sk-container-id-1 div.sk-text-repr-fallback {display: none;}</style><div id=\"sk-container-id-1\" class=\"sk-top-container\"><div class=\"sk-text-repr-fallback\"><pre>XGBClassifier(base_score=None, booster=None, callbacks=None,\n",
       "              colsample_bylevel=None, colsample_bynode=None,\n",
       "              colsample_bytree=None, device=None, early_stopping_rounds=None,\n",
       "              enable_categorical=False, eval_metric=None, feature_types=None,\n",
       "              gamma=None, grow_policy=None, importance_type=None,\n",
       "              interaction_constraints=None, learning_rate=None, max_bin=None,\n",
       "              max_cat_threshold=None, max_cat_to_onehot=None,\n",
       "              max_delta_step=None, max_depth=None, max_leaves=None,\n",
       "              min_child_weight=None, missing=nan, monotone_constraints=None,\n",
       "              multi_strategy=None, n_estimators=None, n_jobs=None,\n",
       "              num_parallel_tree=None, random_state=None, ...)</pre><b>In a Jupyter environment, please rerun this cell to show the HTML representation or trust the notebook. <br />On GitHub, the HTML representation is unable to render, please try loading this page with nbviewer.org.</b></div><div class=\"sk-container\" hidden><div class=\"sk-item\"><div class=\"sk-estimator sk-toggleable\"><input class=\"sk-toggleable__control sk-hidden--visually\" id=\"sk-estimator-id-1\" type=\"checkbox\" checked><label for=\"sk-estimator-id-1\" class=\"sk-toggleable__label sk-toggleable__label-arrow\">XGBClassifier</label><div class=\"sk-toggleable__content\"><pre>XGBClassifier(base_score=None, booster=None, callbacks=None,\n",
       "              colsample_bylevel=None, colsample_bynode=None,\n",
       "              colsample_bytree=None, device=None, early_stopping_rounds=None,\n",
       "              enable_categorical=False, eval_metric=None, feature_types=None,\n",
       "              gamma=None, grow_policy=None, importance_type=None,\n",
       "              interaction_constraints=None, learning_rate=None, max_bin=None,\n",
       "              max_cat_threshold=None, max_cat_to_onehot=None,\n",
       "              max_delta_step=None, max_depth=None, max_leaves=None,\n",
       "              min_child_weight=None, missing=nan, monotone_constraints=None,\n",
       "              multi_strategy=None, n_estimators=None, n_jobs=None,\n",
       "              num_parallel_tree=None, random_state=None, ...)</pre></div></div></div></div></div>"
      ],
      "text/plain": [
       "XGBClassifier(base_score=None, booster=None, callbacks=None,\n",
       "              colsample_bylevel=None, colsample_bynode=None,\n",
       "              colsample_bytree=None, device=None, early_stopping_rounds=None,\n",
       "              enable_categorical=False, eval_metric=None, feature_types=None,\n",
       "              gamma=None, grow_policy=None, importance_type=None,\n",
       "              interaction_constraints=None, learning_rate=None, max_bin=None,\n",
       "              max_cat_threshold=None, max_cat_to_onehot=None,\n",
       "              max_delta_step=None, max_depth=None, max_leaves=None,\n",
       "              min_child_weight=None, missing=nan, monotone_constraints=None,\n",
       "              multi_strategy=None, n_estimators=None, n_jobs=None,\n",
       "              num_parallel_tree=None, random_state=None, ...)"
      ]
     },
     "execution_count": 23,
     "metadata": {},
     "output_type": "execute_result"
    }
   ],
   "source": [
    "xgb_classifier = xgb.XGBClassifier()\n",
    "xgb_classifier.fit(X_train, y_train)"
   ]
  },
  {
   "cell_type": "code",
   "execution_count": 24,
   "id": "98791ded",
   "metadata": {},
   "outputs": [],
   "source": [
    "test = xgb_classifier.predict(X_test)"
   ]
  },
  {
   "cell_type": "markdown",
   "id": "ab6ab3e0",
   "metadata": {},
   "source": [
    "Here, we will check the accuracy of the model and see how it compares to the precision, recall and F1 Score."
   ]
  },
  {
   "cell_type": "code",
   "execution_count": 25,
   "id": "d47f9e5f",
   "metadata": {},
   "outputs": [
    {
     "name": "stdout",
     "output_type": "stream",
     "text": [
      "Accuracy of Test Set: 84.53 %\n"
     ]
    }
   ],
   "source": [
    "print(\"Accuracy of Test Set:\", round(accuracy_score(y_test,test) * 100, 2 ), \"%\")"
   ]
  },
  {
   "cell_type": "code",
   "execution_count": 26,
   "id": "daaddc61",
   "metadata": {},
   "outputs": [
    {
     "data": {
      "image/png": "[encoded data removed]",
      "text/plain": [
       "<Figure size 700x700 with 1 Axes>"
      ]
     },
     "metadata": {},
     "output_type": "display_data"
    }
   ],
   "source": [
    "conf_matrix = confusion_matrix(y_true=y_test, y_pred=test)\n",
    "\n",
    "fig, ax = plt.subplots(figsize=(7, 7))\n",
    "ax.matshow(conf_matrix, cmap=plt.cm.Accent, alpha=0.4)\n",
    "for i in range(conf_matrix.shape[0]):\n",
    "    for j in range(conf_matrix.shape[1]):\n",
    "        ax.text(x=j, y=i,s=conf_matrix[i, j], va='center', ha='center', size='x-large')\n",
    " \n",
    "plt.xlabel('Predictions', fontsize=10)\n",
    "plt.ylabel('Actuals', fontsize=10)\n",
    "plt.title('Confusion Matrix', fontsize=15)\n",
    "plt.show()"
   ]
  },
  {
   "cell_type": "code",
   "execution_count": 27,
   "id": "557373cf",
   "metadata": {},
   "outputs": [
    {
     "data": {
      "text/html": [
       "<div>\n",
       "<style scoped>\n",
       "    .dataframe tbody tr th:only-of-type {\n",
       "        vertical-align: middle;\n",
       "    }\n",
       "\n",
       "    .dataframe tbody tr th {\n",
       "        vertical-align: top;\n",
       "    }\n",
       "\n",
       "    .dataframe thead th {\n",
       "        text-align: right;\n",
       "    }\n",
       "</style>\n",
       "<table border=\"1\" class=\"dataframe\">\n",
       "  <thead>\n",
       "    <tr style=\"text-align: right;\">\n",
       "      <th></th>\n",
       "      <th>Original Dataset</th>\n",
       "      <th>Comments</th>\n",
       "    </tr>\n",
       "  </thead>\n",
       "  <tbody>\n",
       "    <tr>\n",
       "      <th>Precision</th>\n",
       "      <td>0.5361</td>\n",
       "      <td>Only 54% of the customers targetted are actually interested in renewing their insurance</td>\n",
       "    </tr>\n",
       "    <tr>\n",
       "      <th>Recall</th>\n",
       "      <td>0.4116</td>\n",
       "      <td>Only 41% of the potentially interested customers are being identified</td>\n",
       "    </tr>\n",
       "    <tr>\n",
       "      <th>F1_score</th>\n",
       "      <td>0.4657</td>\n",
       "      <td></td>\n",
       "    </tr>\n",
       "  </tbody>\n",
       "</table>\n",
       "</div>"
      ],
      "text/plain": [
       "           Original Dataset  \\\n",
       "Precision            0.5361   \n",
       "Recall               0.4116   \n",
       "F1_score             0.4657   \n",
       "\n",
       "                                                                                          Comments  \n",
       "Precision  Only 54% of the customers targetted are actually interested in renewing their insurance  \n",
       "Recall                       Only 41% of the potentially interested customers are being identified  \n",
       "F1_score                                                                                            "
      ]
     },
     "execution_count": 27,
     "metadata": {},
     "output_type": "execute_result"
    }
   ],
   "source": [
    "precision_original =  round(precision_score(y_test, test), 4)\n",
    "recall_original = round(recall_score(y_test, test), 4)\n",
    "F1_score_original =  round(f1_score(y_test, test), 4)\n",
    "metrics_original = [precision_original, recall_original, F1_score_original]\n",
    "\n",
    "original = pd.DataFrame(metrics_original)\n",
    "original.index = ['Precision', 'Recall', 'F1_score']\n",
    "original.columns = ['Original Dataset']\n",
    "original['Comments'] = ['Only 54% of the customers targetted are actually interested in renewing their insurance',\n",
    "                       'Only 41% of the potentially interested customers are being identified',\n",
    "                       '']\n",
    "original"
   ]
  },
  {
   "cell_type": "markdown",
   "id": "393f00b6",
   "metadata": {},
   "source": [
    "So, even with a high accuracy of nearly 85%, the model does not perform well in terms of the precision, recall or F1 Score. As we discussed previously, this is due to the algorithm's incapability to distinguish between the minority and majority classes."
   ]
  },
  {
   "cell_type": "code",
   "execution_count": 28,
   "id": "cc643f4b",
   "metadata": {},
   "outputs": [],
   "source": [
    "from sklearn.metrics import precision_recall_fscore_support"
   ]
  },
  {
   "cell_type": "code",
   "execution_count": 30,
   "id": "4131e22f",
   "metadata": {},
   "outputs": [],
   "source": [
    "# Evaluate the model using precision, recall, and F1-score\n",
    "precision, recall, f1, _ = precision_recall_fscore_support(y_test, xgb_classifier.predict(X_test))"
   ]
  },
  {
   "cell_type": "code",
   "execution_count": null,
   "id": "a0454686",
   "metadata": {},
   "outputs": [],
   "source": []
  }
 ],
 "metadata": {
  "kernelspec": {
   "display_name": "Python 3 (ipykernel)",
   "language": "python",
   "name": "python3"
  },
  "language_info": {
   "codemirror_mode": {
    "name": "ipython",
    "version": 3
   },
   "file_extension": ".py",
   "mimetype": "text/x-python",
   "name": "python",
   "nbconvert_exporter": "python",
   "pygments_lexer": "ipython3",
   "version": "3.10.9"
  }
 },
 "nbformat": 4,
 "nbformat_minor": 5
}
